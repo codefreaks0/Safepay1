{
 "cells": [
  {
   "cell_type": "code",
   "execution_count": 1,
   "id": "based-alignment",
   "metadata": {
    "_cell_guid": "b1076dfc-b9ad-4769-8c92-a6c4dae69d19",
    "_uuid": "8f2839f25d086af736a60e9eeb907d3b93b6e0e5",
    "execution": {
     "iopub.execute_input": "2021-07-04T03:33:22.897560Z",
     "iopub.status.busy": "2021-07-04T03:33:22.896257Z",
     "iopub.status.idle": "2021-07-04T03:33:22.916969Z",
     "shell.execute_reply": "2021-07-04T03:33:22.917666Z",
     "shell.execute_reply.started": "2021-07-04T03:30:07.264262Z"
    },
    "papermill": {
     "duration": 0.041767,
     "end_time": "2021-07-04T03:33:22.918119",
     "exception": false,
     "start_time": "2021-07-04T03:33:22.876352",
     "status": "completed"
    },
    "tags": []
   },
   "outputs": [
    {
     "name": "stdout",
     "output_type": "stream",
     "text": [
      "/kaggle/input/fraud-call-india-dataset/fraud_call.file\n"
     ]
    }
   ],
   "source": [
    "# This Python 3 environment comes with many helpful analytics libraries installed\n",
    "# It is defined by the kaggle/python Docker image: https://github.com/kaggle/docker-python\n",
    "# For example, here's several helpful packages to load\n",
    "import re\n",
    "import numpy as np # linear algebra\n",
    "import pandas as pd # data processing, CSV file I/O (e.g. pd.read_csv)\n",
    "\n",
    "# Input data files are available in the read-only \"../input/\" directory\n",
    "# For example, running this (by clicking run or pressing Shift+Enter) will list all files under the input directory\n",
    "\n",
    "import os\n",
    "for dirname, _, filenames in os.walk('/kaggle/input'):\n",
    "    for filename in filenames:\n",
    "        print(os.path.join(dirname, filename))\n",
    "\n",
    "# You can write up to 20GB to the current directory (/kaggle/working/) that gets preserved as output when you create a version using \"Save & Run All\" \n",
    "# You can also write temporary files to /kaggle/temp/, but they won't be saved outside of the current session"
   ]
  },
  {
   "cell_type": "markdown",
   "id": "satisfied-marathon",
   "metadata": {
    "papermill": {
     "duration": 0.013738,
     "end_time": "2021-07-04T03:33:22.946378",
     "exception": false,
     "start_time": "2021-07-04T03:33:22.932640",
     "status": "completed"
    },
    "tags": []
   },
   "source": [
    "This notebook is for **fraud call detection** dataset. the dataset contain two type of data \n",
    "one is fraud and second is normal call data.\n",
    "To detect fraud call, In this notebook i am going to used Naive Bayes classification.\n",
    "\n",
    "when ever we start creating a model in Machine Learning the first step is perform EDA ,in the EDA first step is import/load the dataset."
   ]
  },
  {
   "cell_type": "code",
   "execution_count": 2,
   "id": "challenging-durham",
   "metadata": {
    "execution": {
     "iopub.execute_input": "2021-07-04T03:33:22.978020Z",
     "iopub.status.busy": "2021-07-04T03:33:22.977329Z",
     "iopub.status.idle": "2021-07-04T03:33:23.009698Z",
     "shell.execute_reply": "2021-07-04T03:33:23.009085Z",
     "shell.execute_reply.started": "2021-07-04T03:30:13.545156Z"
    },
    "papermill": {
     "duration": 0.049524,
     "end_time": "2021-07-04T03:33:23.009910",
     "exception": false,
     "start_time": "2021-07-04T03:33:22.960386",
     "status": "completed"
    },
    "tags": []
   },
   "outputs": [],
   "source": [
    "\"\"\"import the dataset in data library\"\"\"\n",
    "data = pd.read_csv(\"../input/fraud-call-india-dataset/fraud_call.file\",sep='\\t',names=['label','content'])"
   ]
  },
  {
   "cell_type": "code",
   "execution_count": 3,
   "id": "caring-vehicle",
   "metadata": {
    "execution": {
     "iopub.execute_input": "2021-07-04T03:33:23.052768Z",
     "iopub.status.busy": "2021-07-04T03:33:23.051933Z",
     "iopub.status.idle": "2021-07-04T03:33:23.071907Z",
     "shell.execute_reply": "2021-07-04T03:33:23.072417Z",
     "shell.execute_reply.started": "2021-07-04T03:30:15.158887Z"
    },
    "papermill": {
     "duration": 0.047694,
     "end_time": "2021-07-04T03:33:23.072622",
     "exception": false,
     "start_time": "2021-07-04T03:33:23.024928",
     "status": "completed"
    },
    "tags": []
   },
   "outputs": [
    {
     "data": {
      "text/html": [
       "<div>\n",
       "<style scoped>\n",
       "    .dataframe tbody tr th:only-of-type {\n",
       "        vertical-align: middle;\n",
       "    }\n",
       "\n",
       "    .dataframe tbody tr th {\n",
       "        vertical-align: top;\n",
       "    }\n",
       "\n",
       "    .dataframe thead th {\n",
       "        text-align: right;\n",
       "    }\n",
       "</style>\n",
       "<table border=\"1\" class=\"dataframe\">\n",
       "  <thead>\n",
       "    <tr style=\"text-align: right;\">\n",
       "      <th></th>\n",
       "      <th>label</th>\n",
       "      <th>content</th>\n",
       "    </tr>\n",
       "  </thead>\n",
       "  <tbody>\n",
       "    <tr>\n",
       "      <th>0</th>\n",
       "      <td>fraud</td>\n",
       "      <td>hello, i m bank manager of SBI, ur debit card ...</td>\n",
       "    </tr>\n",
       "    <tr>\n",
       "      <th>1</th>\n",
       "      <td>fraud</td>\n",
       "      <td>Todays Vodafone numbers ending with 4882 are s...</td>\n",
       "    </tr>\n",
       "    <tr>\n",
       "      <th>2</th>\n",
       "      <td>normal</td>\n",
       "      <td>Please don't say like that. Hi hi hi</td>\n",
       "    </tr>\n",
       "    <tr>\n",
       "      <th>3</th>\n",
       "      <td>normal</td>\n",
       "      <td>Thank you!</td>\n",
       "    </tr>\n",
       "    <tr>\n",
       "      <th>4</th>\n",
       "      <td>normal</td>\n",
       "      <td>Oh that was a forwarded message. I thought you...</td>\n",
       "    </tr>\n",
       "  </tbody>\n",
       "</table>\n",
       "</div>"
      ],
      "text/plain": [
       "    label                                            content\n",
       "0   fraud  hello, i m bank manager of SBI, ur debit card ...\n",
       "1   fraud  Todays Vodafone numbers ending with 4882 are s...\n",
       "2  normal               Please don't say like that. Hi hi hi\n",
       "3  normal                                         Thank you!\n",
       "4  normal  Oh that was a forwarded message. I thought you..."
      ]
     },
     "execution_count": 3,
     "metadata": {},
     "output_type": "execute_result"
    }
   ],
   "source": [
    "data.head()"
   ]
  },
  {
   "cell_type": "markdown",
   "id": "outer-decrease",
   "metadata": {
    "papermill": {
     "duration": 0.014483,
     "end_time": "2021-07-04T03:33:23.101722",
     "exception": false,
     "start_time": "2021-07-04T03:33:23.087239",
     "status": "completed"
    },
    "tags": []
   },
   "source": [
    "I am going to count howmany fraud and normal data is avialble in dataset."
   ]
  },
  {
   "cell_type": "code",
   "execution_count": 4,
   "id": "inclusive-vertex",
   "metadata": {
    "execution": {
     "iopub.execute_input": "2021-07-04T03:33:23.134770Z",
     "iopub.status.busy": "2021-07-04T03:33:23.134039Z",
     "iopub.status.idle": "2021-07-04T03:33:23.146751Z",
     "shell.execute_reply": "2021-07-04T03:33:23.147375Z",
     "shell.execute_reply.started": "2021-07-04T03:30:25.299699Z"
    },
    "papermill": {
     "duration": 0.031222,
     "end_time": "2021-07-04T03:33:23.147599",
     "exception": false,
     "start_time": "2021-07-04T03:33:23.116377",
     "status": "completed"
    },
    "tags": []
   },
   "outputs": [
    {
     "data": {
      "text/plain": [
       "normal    5287\n",
       "fraud      638\n",
       "Name: label, dtype: int64"
      ]
     },
     "execution_count": 4,
     "metadata": {},
     "output_type": "execute_result"
    }
   ],
   "source": [
    "data['label'].value_counts()"
   ]
  },
  {
   "cell_type": "markdown",
   "id": "athletic-english",
   "metadata": {
    "papermill": {
     "duration": 0.014477,
     "end_time": "2021-07-04T03:33:23.178287",
     "exception": false,
     "start_time": "2021-07-04T03:33:23.163810",
     "status": "completed"
    },
    "tags": []
   },
   "source": [
    "visualize the label column **for count** the number of fraud data and normal data."
   ]
  },
  {
   "cell_type": "code",
   "execution_count": 5,
   "id": "executed-encoding",
   "metadata": {
    "execution": {
     "iopub.execute_input": "2021-07-04T03:33:23.211557Z",
     "iopub.status.busy": "2021-07-04T03:33:23.210797Z",
     "iopub.status.idle": "2021-07-04T03:33:24.230794Z",
     "shell.execute_reply": "2021-07-04T03:33:24.230112Z",
     "shell.execute_reply.started": "2021-07-04T03:30:37.358970Z"
    },
    "papermill": {
     "duration": 1.037776,
     "end_time": "2021-07-04T03:33:24.230971",
     "exception": false,
     "start_time": "2021-07-04T03:33:23.193195",
     "status": "completed"
    },
    "tags": []
   },
   "outputs": [
    {
     "name": "stderr",
     "output_type": "stream",
     "text": [
      "/opt/conda/lib/python3.7/site-packages/seaborn/_decorators.py:43: FutureWarning: Pass the following variable as a keyword arg: x. From version 0.12, the only valid positional argument will be `data`, and passing other arguments without an explicit keyword will result in an error or misinterpretation.\n",
      "  FutureWarning\n"
     ]
    },
    {
     "data": {
      "text/plain": [
       "<AxesSubplot:xlabel='label', ylabel='count'>"
      ]
     },
     "execution_count": 5,
     "metadata": {},
     "output_type": "execute_result"
    },
    {
     "data": {
      "image/png": "[encoded data removed]",
      "text/plain": [
       "<Figure size 432x288 with 1 Axes>"
      ]
     },
     "metadata": {
      "needs_background": "light"
     },
     "output_type": "display_data"
    }
   ],
   "source": [
    "import seaborn as sns\n",
    "sns.countplot('label',data=data)"
   ]
  },
  {
   "cell_type": "markdown",
   "id": "understanding-training",
   "metadata": {
    "papermill": {
     "duration": 0.015814,
     "end_time": "2021-07-04T03:33:24.263117",
     "exception": false,
     "start_time": "2021-07-04T03:33:24.247303",
     "status": "completed"
    },
    "tags": []
   },
   "source": [
    "In **machine learning technique**, Every model will take input as integer/numeric data type values,but in this dataset data are present in object type so before giving input to model we have to convert object type data to integer types.\n",
    "\n",
    "In the below cell i have used **TfidVectorizer method** which is imported from nltk library for create a vector of words which is present dataset. **TfidVectorizer** is more better then **Bag of Words(BOW)** method.\n",
    "\n",
    "***Note:*** for categorical/object type information, before performing encoding methods always remove stopwords from the data because  stopwords do not play important role for improve performance and accuracy of model.\n",
    "\n",
    "so in the below cell, for removing stopwords \"WordNetLemmatizer\" have used. it will remove stopwords from dataset.\n",
    "\n",
    "Ex: for,in,you,at etc these are stopwords,\n",
    "**stopwords** imported from **nltk** library, this is a text Preprocessing library. \n",
    "\n"
   ]
  },
  {
   "cell_type": "code",
   "execution_count": 6,
   "id": "reliable-scheme",
   "metadata": {
    "execution": {
     "iopub.execute_input": "2021-07-04T03:33:24.301532Z",
     "iopub.status.busy": "2021-07-04T03:33:24.300861Z",
     "iopub.status.idle": "2021-07-04T03:33:25.323047Z",
     "shell.execute_reply": "2021-07-04T03:33:25.322413Z",
     "shell.execute_reply.started": "2021-07-04T03:31:01.774667Z"
    },
    "papermill": {
     "duration": 1.043648,
     "end_time": "2021-07-04T03:33:25.323207",
     "exception": false,
     "start_time": "2021-07-04T03:33:24.279559",
     "status": "completed"
    },
    "tags": []
   },
   "outputs": [],
   "source": [
    "\"\"\"perform text preprocessing\"\"\"\n",
    "from nltk.stem import WordNetLemmatizer\n",
    "from nltk.corpus import stopwords\n",
    "from sklearn.feature_extraction.text import TfidfVectorizer\n",
    "ps = WordNetLemmatizer()\n",
    "cv = TfidfVectorizer(max_features=2000)"
   ]
  },
  {
   "cell_type": "code",
   "execution_count": 7,
   "id": "valued-pharmacology",
   "metadata": {
    "execution": {
     "iopub.execute_input": "2021-07-04T03:33:25.363165Z",
     "iopub.status.busy": "2021-07-04T03:33:25.362285Z",
     "iopub.status.idle": "2021-07-04T03:33:25.365584Z",
     "shell.execute_reply": "2021-07-04T03:33:25.365043Z",
     "shell.execute_reply.started": "2021-07-04T03:31:04.954879Z"
    },
    "papermill": {
     "duration": 0.02653,
     "end_time": "2021-07-04T03:33:25.365737",
     "exception": false,
     "start_time": "2021-07-04T03:33:25.339207",
     "status": "completed"
    },
    "tags": []
   },
   "outputs": [],
   "source": [
    "def remove_digit(data) :\n",
    "    corpos = []\n",
    "    for i in range(0, len(data)) :\n",
    "        review = re.sub('[^a-zA-Z]', ' ', data['content'][i])\n",
    "        review = review.lower()\n",
    "        review = review.split()\n",
    "        review = [ps.lemmatize(word) for word in review if word not in stopwords.words('english')]\n",
    "        review = ' '.join(review)\n",
    "        corpos.append(review)\n",
    "    return corpos"
   ]
  },
  {
   "cell_type": "markdown",
   "id": "enormous-threshold",
   "metadata": {
    "papermill": {
     "duration": 0.015614,
     "end_time": "2021-07-04T03:33:25.397366",
     "exception": false,
     "start_time": "2021-07-04T03:33:25.381752",
     "status": "completed"
    },
    "tags": []
   },
   "source": [
    "In  given below cell, **Naive Bayes** classification has used to classify whether it is fraud call or not.\n",
    "before it split data in to two parts.\n",
    "\n",
    "**1. training data\n",
    "2. test data**\n",
    "\n",
    "An in-build **train_test_split** module used to split data in to training and testing part."
   ]
  },
  {
   "cell_type": "code",
   "execution_count": 8,
   "id": "beginning-tribune",
   "metadata": {
    "execution": {
     "iopub.execute_input": "2021-07-04T03:33:25.440155Z",
     "iopub.status.busy": "2021-07-04T03:33:25.439383Z",
     "iopub.status.idle": "2021-07-04T03:33:25.445636Z",
     "shell.execute_reply": "2021-07-04T03:33:25.444945Z",
     "shell.execute_reply.started": "2021-07-04T03:31:09.284294Z"
    },
    "papermill": {
     "duration": 0.031895,
     "end_time": "2021-07-04T03:33:25.445796",
     "exception": false,
     "start_time": "2021-07-04T03:33:25.413901",
     "status": "completed"
    },
    "tags": []
   },
   "outputs": [],
   "source": [
    "from sklearn.metrics import recall_score,classification_report\n",
    "from sklearn.model_selection import train_test_split\n",
    "from sklearn.naive_bayes import MultinomialNB\n",
    "from sklearn.metrics import confusion_matrix,accuracy_score\n",
    "\"\"\"creating/training of model.\"\"\"\n",
    "def detect_model(corpos, data):\n",
    "    x = cv.fit_transform(corpos).toarray()\n",
    "    y = pd.get_dummies(data['label'])\n",
    "    y = y.iloc[:, 1].values\n",
    "    x_train, x_test, y_train, y_test = train_test_split(x, y, test_size=0.20, random_state=0)\n",
    "    fraud_detect = MultinomialNB().fit(x_train, y_train)\n",
    "    print(\"model has trained.\")\n",
    "    y_ped = fraud_detect.predict(x_test)\n",
    "    cong_m = confusion_matrix(y_test, y_ped)\n",
    "    acc = accuracy_score(y_test, y_ped)\n",
    "    recall = recall_score(y_test,y_ped)\n",
    "    cl_r = classification_report(y_test,y_ped)\n",
    "    print(\"Confusion matrix:\", cong_m)\n",
    "    print(\"Accuracy_score:\", acc)\n",
    "    print(\"recall_score is:\",recall)\n",
    "    print(\"Classification report id:\",cl_r)\n",
    "    return fraud_detect"
   ]
  },
  {
   "cell_type": "markdown",
   "id": "judicial-template",
   "metadata": {
    "papermill": {
     "duration": 0.015573,
     "end_time": "2021-07-04T03:33:25.477457",
     "exception": false,
     "start_time": "2021-07-04T03:33:25.461884",
     "status": "completed"
    },
    "tags": []
   },
   "source": [
    "call **remove_digit()** for text preprocessing operation and **detect_model()** for creating classification model \n",
    "and train it by traing data as well as validate it by testing data and will return **confusion_metrics** and \n",
    "**accuracy_score**\"\"\""
   ]
  },
  {
   "cell_type": "code",
   "execution_count": 9,
   "id": "instant-pathology",
   "metadata": {
    "execution": {
     "iopub.execute_input": "2021-07-04T03:33:25.515157Z",
     "iopub.status.busy": "2021-07-04T03:33:25.514300Z",
     "iopub.status.idle": "2021-07-04T03:33:40.186150Z",
     "shell.execute_reply": "2021-07-04T03:33:40.187801Z",
     "shell.execute_reply.started": "2021-07-04T03:31:16.734855Z"
    },
    "papermill": {
     "duration": 14.695024,
     "end_time": "2021-07-04T03:33:40.188259",
     "exception": false,
     "start_time": "2021-07-04T03:33:25.493235",
     "status": "completed"
    },
    "tags": []
   },
   "outputs": [
    {
     "name": "stdout",
     "output_type": "stream",
     "text": [
      "model has trained.\n",
      "Confusion matrix: [[ 102   26]\n",
      " [   1 1056]]\n",
      "Accuracy_score: 0.9772151898734177\n",
      "recall_score is: 0.9990539262062441\n",
      "Classification report id:               precision    recall  f1-score   support\n",
      "\n",
      "           0       0.99      0.80      0.88       128\n",
      "           1       0.98      1.00      0.99      1057\n",
      "\n",
      "    accuracy                           0.98      1185\n",
      "   macro avg       0.98      0.90      0.94      1185\n",
      "weighted avg       0.98      0.98      0.98      1185\n",
      "\n"
     ]
    }
   ],
   "source": [
    "proper_list = remove_digit(data)\n",
    "model= detect_model(proper_list, data)"
   ]
  },
  {
   "cell_type": "code",
   "execution_count": 10,
   "id": "modular-arizona",
   "metadata": {
    "execution": {
     "iopub.execute_input": "2021-07-04T03:33:40.255256Z",
     "iopub.status.busy": "2021-07-04T03:33:40.254053Z",
     "iopub.status.idle": "2021-07-04T03:33:40.258700Z",
     "shell.execute_reply": "2021-07-04T03:33:40.259738Z",
     "shell.execute_reply.started": "2021-07-04T03:32:33.449821Z"
    },
    "papermill": {
     "duration": 0.042465,
     "end_time": "2021-07-04T03:33:40.260068",
     "exception": false,
     "start_time": "2021-07-04T03:33:40.217603",
     "status": "completed"
    },
    "tags": []
   },
   "outputs": [
    {
     "data": {
      "text/plain": [
       "'when dataset is imbalanced dataset, then we should use precision,recall or f1-score metrics function because \\naccuracy will be failed in unbalance dataset  for  classification. but some time it will work fine'"
      ]
     },
     "execution_count": 10,
     "metadata": {},
     "output_type": "execute_result"
    }
   ],
   "source": [
    "\"\"\"when dataset is imbalanced dataset, then we should use precision,recall or f1-score metrics function because \n",
    "accuracy will be failed in unbalance dataset  for  classification. but some time it will work fine\"\"\"\n"
   ]
  },
  {
   "cell_type": "markdown",
   "id": "experimental-festival",
   "metadata": {
    "papermill": {
     "duration": 0.016225,
     "end_time": "2021-07-04T03:33:40.300581",
     "exception": false,
     "start_time": "2021-07-04T03:33:40.284356",
     "status": "completed"
    },
    "tags": []
   },
   "source": [
    "## \"\"\"if you all find out this notebook  helpful, please upvote\"\"\""
   ]
  },
  {
   "cell_type": "code",
   "execution_count": null,
   "id": "ordered-repair",
   "metadata": {
    "papermill": {
     "duration": 0.016214,
     "end_time": "2021-07-04T03:33:40.333656",
     "exception": false,
     "start_time": "2021-07-04T03:33:40.317442",
     "status": "completed"
    },
    "tags": []
   },
   "outputs": [],
   "source": []
  }
 ],
 "metadata": {
  "kernelspec": {
   "display_name": "Python 3",
   "language": "python",
   "name": "python3"
  },
  "language_info": {
   "codemirror_mode": {
    "name": "ipython",
    "version": 3
   },
   "file_extension": ".py",
   "mimetype": "text/x-python",
   "name": "python",
   "nbconvert_exporter": "python",
   "pygments_lexer": "ipython3",
   "version": "3.7.10"
  },
  "papermill": {
   "default_parameters": {},
   "duration": 27.953561,
   "end_time": "2021-07-04T03:33:42.024209",
   "environment_variables": {},
   "exception": null,
   "input_path": "__notebook__.ipynb",
   "output_path": "__notebook__.ipynb",
   "parameters": {},
   "start_time": "2021-07-04T03:33:14.070648",
   "version": "2.3.3"
  }
 },
 "nbformat": 4,
 "nbformat_minor": 5
}
